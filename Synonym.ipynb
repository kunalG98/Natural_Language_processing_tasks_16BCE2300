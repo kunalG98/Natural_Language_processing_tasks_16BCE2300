{
 "cells": [
  {
   "cell_type": "code",
   "execution_count": 2,
   "metadata": {},
   "outputs": [
    {
     "name": "stdout",
     "output_type": "stream",
     "text": [
      "Find the synonym of: difficult\n",
      "Synset('difficult.a.01')\n",
      "difficult.a.01\n"
     ]
    }
   ],
   "source": [
    "from nltk.corpus import wordnet as wn\n",
    "name=input(\"Find the synonym of: \")\n",
    "sets=wn.synsets(name)\n",
    "first=sets[0]\n",
    "first=str(first)\n",
    "print(first)\n",
    "wn.synset('talk.v.02').lemma_names()\n",
    "\n",
    "try:\n",
    "    entry=first[8:-2]\n",
    "    print(entry)\n",
    "    wn.synset('talk.v.02').lemma_names()\n",
    "    wn.synset(entry).lemma_names()\n",
    "except:\n",
    "    print(\"some error\")"
   ]
  },
  {
   "cell_type": "code",
   "execution_count": 4,
   "metadata": {},
   "outputs": [
    {
     "name": "stdout",
     "output_type": "stream",
     "text": [
      "Input the word:difficult\n",
      "Synset('difficult.a.01')\n",
      "Synset('unmanageable.a.02')\n",
      "{'hard', 'unmanageable', 'difficult'}\n"
     ]
    }
   ],
   "source": [
    "from nltk.corpus import wordnet \n",
    "word=input(\"Input the word:\")\n",
    "synonyms=[]\n",
    "for syn in wordnet.synsets(word): \n",
    "    print(syn)\n",
    "    for l in syn.lemmas(): \n",
    "        synonyms.append(l.name()) \n",
    "print(set(synonyms))"
   ]
  },
  {
   "cell_type": "code",
   "execution_count": null,
   "metadata": {},
   "outputs": [],
   "source": []
  }
 ],
 "metadata": {
  "kernelspec": {
   "display_name": "Python 3",
   "language": "python",
   "name": "python3"
  },
  "language_info": {
   "codemirror_mode": {
    "name": "ipython",
    "version": 3
   },
   "file_extension": ".py",
   "mimetype": "text/x-python",
   "name": "python",
   "nbconvert_exporter": "python",
   "pygments_lexer": "ipython3",
   "version": "3.7.1"
  }
 },
 "nbformat": 4,
 "nbformat_minor": 2
}
