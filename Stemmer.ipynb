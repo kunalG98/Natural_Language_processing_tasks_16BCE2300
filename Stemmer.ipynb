{
 "cells": [
  {
   "cell_type": "code",
   "execution_count": 1,
   "metadata": {},
   "outputs": [
    {
     "name": "stdout",
     "output_type": "stream",
     "text": [
      "prettier\n",
      "glass\n",
      "carrier\n",
      "bird\n",
      "item\n",
      "brighter\n",
      "chill\n",
      "exclaim\n"
     ]
    }
   ],
   "source": [
    "import nltk\n",
    "from nltk.stem import PorterStemmer\n",
    "stemmerporter=PorterStemmer()\n",
    "words=['prettier','glasses','carrier','birds','itemization','brighter','chilled','exclaiming']\n",
    "for word in words:\n",
    "    print(stemmerporter.stem(word))"
   ]
  },
  {
   "cell_type": "code",
   "execution_count": 5,
   "metadata": {},
   "outputs": [
    {
     "data": {
      "text/plain": [
       "['I',\n",
       " 'had',\n",
       " 'a',\n",
       " 'great',\n",
       " 'day',\n",
       " 'today',\n",
       " '.',\n",
       " 'I',\n",
       " 'am',\n",
       " 'hoping',\n",
       " 'for',\n",
       " 'an',\n",
       " 'even',\n",
       " 'better',\n",
       " 'day',\n",
       " 'tomorrow',\n",
       " 'as',\n",
       " 'it',\n",
       " 'is',\n",
       " 'going',\n",
       " 'to',\n",
       " 'be',\n",
       " 'my',\n",
       " 'birthday',\n",
       " '.']"
      ]
     },
     "execution_count": 5,
     "metadata": {},
     "output_type": "execute_result"
    }
   ],
   "source": [
    "from nltk.tokenize import RegexpTokenizer\n",
    "s = \"Good muffins cost $3.88\\nin New York.  Please buy me\\ntwo of them.\\n\\nThanks.\"\n",
    "s1 = \"I had a great day today. I am hoping for an even better day tomorrow as it is going to be my birthday.\"\n",
    "tokenizer = RegexpTokenizer('\\w+|\\$[\\d\\.]+|\\S+')\n",
    "#tokenizer = RegexpTokenizer('[\\S]+')\n",
    "tokenizer.tokenize(s)\n",
    "tokenizer.tokenize(s1)"
   ]
  },
  {
   "cell_type": "code",
   "execution_count": 6,
   "metadata": {},
   "outputs": [
    {
     "data": {
      "text/plain": [
       "['Good',\n",
       " 'muffins',\n",
       " 'cost',\n",
       " '$3.88',\n",
       " 'in',\n",
       " 'New',\n",
       " 'York',\n",
       " '.',\n",
       " 'Please',\n",
       " 'buy',\n",
       " 'me',\n",
       " 'two',\n",
       " 'of',\n",
       " 'them',\n",
       " '.',\n",
       " 'Thanks',\n",
       " '.']"
      ]
     },
     "execution_count": 6,
     "metadata": {},
     "output_type": "execute_result"
    }
   ],
   "source": [
    "from nltk.tokenize import RegexpTokenizer\n",
    "s = \"Good muffins cost $3.88\\nin New York.  Please buy me\\ntwo of them.\\n\\nThanks.\"\n",
    "tokenizer = RegexpTokenizer('\\w+|\\$[\\d\\.]+|\\S+')\n",
    "#tokenizer = RegexpTokenizer('[\\S]+')\n",
    "tokenizer.tokenize(s)"
   ]
  },
  {
   "cell_type": "code",
   "execution_count": 7,
   "metadata": {},
   "outputs": [
    {
     "name": "stdout",
     "output_type": "stream",
     "text": [
      "sibling : sibl\n",
      "prettier : prettier\n",
      "glasses : glass\n",
      "queue : queue\n",
      "carrier : carrier\n",
      "birds : bird\n",
      "running : run\n",
      "angrier : angrier\n",
      "prettiest : prettiest\n",
      "kilometer : kilomet\n"
     ]
    }
   ],
   "source": [
    "from nltk.stem.snowball import SnowballStemmer\n",
    "stemmer = SnowballStemmer(\"english\")\n",
    "words=['sibling','prettier','glasses','queue','carrier','birds','running','angrier','prettiest','kilometer']\n",
    "for word in words:\n",
    "    print(word,\":\",stemmer.stem(word))"
   ]
  },
  {
   "cell_type": "code",
   "execution_count": null,
   "metadata": {},
   "outputs": [],
   "source": []
  }
 ],
 "metadata": {
  "kernelspec": {
   "display_name": "Python 3",
   "language": "python",
   "name": "python3"
  },
  "language_info": {
   "codemirror_mode": {
    "name": "ipython",
    "version": 3
   },
   "file_extension": ".py",
   "mimetype": "text/x-python",
   "name": "python",
   "nbconvert_exporter": "python",
   "pygments_lexer": "ipython3",
   "version": "3.7.1"
  }
 },
 "nbformat": 4,
 "nbformat_minor": 2
}
