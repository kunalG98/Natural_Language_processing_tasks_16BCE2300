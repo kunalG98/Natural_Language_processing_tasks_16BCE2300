{
 "cells": [
  {
   "cell_type": "code",
   "execution_count": 2,
   "metadata": {},
   "outputs": [
    {
     "name": "stdout",
     "output_type": "stream",
     "text": [
      "3\n"
     ]
    }
   ],
   "source": [
    "from nltk.corpus import inaugural\n",
    "inaugural.fileids()\n",
    "speech=inaugural.words(fileids = '2009-Obama.txt')\n",
    "x=0\n",
    "count = dict()\n",
    "for words in speech:\n",
    "    count[words]=count.get(words,0)+1\n",
    "searcht=\"Americans\"\n",
    "print(count[searcht])\n"
   ]
  },
  {
   "cell_type": "code",
   "execution_count": 3,
   "metadata": {},
   "outputs": [
    {
     "data": {
      "text/plain": [
       "['Thirty-three',\n",
       " 'Scotty',\n",
       " 'did',\n",
       " 'not',\n",
       " 'go',\n",
       " 'back',\n",
       " 'to',\n",
       " 'school',\n",
       " '.',\n",
       " 'His',\n",
       " 'parents',\n",
       " 'talked',\n",
       " 'seriously',\n",
       " 'and',\n",
       " 'lengthily',\n",
       " 'to',\n",
       " 'their',\n",
       " 'own',\n",
       " 'doctor',\n",
       " 'and',\n",
       " 'to',\n",
       " 'a',\n",
       " 'specialist',\n",
       " 'at',\n",
       " 'the',\n",
       " 'University',\n",
       " 'Hospital',\n",
       " '--',\n",
       " 'Mr.',\n",
       " 'McKinley',\n",
       " 'was',\n",
       " 'entitled',\n",
       " 'to',\n",
       " 'a',\n",
       " 'discount',\n",
       " 'for',\n",
       " 'members',\n",
       " 'of',\n",
       " 'his',\n",
       " 'family',\n",
       " '--',\n",
       " 'and',\n",
       " 'it',\n",
       " 'was',\n",
       " 'decided',\n",
       " 'it',\n",
       " 'would',\n",
       " 'be',\n",
       " 'best',\n",
       " 'for']"
      ]
     },
     "execution_count": 3,
     "metadata": {},
     "output_type": "execute_result"
    }
   ],
   "source": [
    "from nltk.corpus import brown\n",
    "brown.fileids() [:20]\n",
    "brown.categories()\n",
    "brown.words(categories=\"fiction\")[:50]"
   ]
  },
  {
   "cell_type": "code",
   "execution_count": 4,
   "metadata": {},
   "outputs": [
    {
     "data": {
      "text/plain": [
       "['Dan',\n",
       " 'Morgan',\n",
       " 'told',\n",
       " 'himself',\n",
       " 'he',\n",
       " 'would',\n",
       " 'forget',\n",
       " 'Ann',\n",
       " 'Turner',\n",
       " '.',\n",
       " 'He',\n",
       " 'was',\n",
       " 'well',\n",
       " 'rid',\n",
       " 'of',\n",
       " 'her',\n",
       " '.',\n",
       " 'He',\n",
       " 'certainly',\n",
       " \"didn't\",\n",
       " 'want',\n",
       " 'a',\n",
       " 'wife',\n",
       " 'who',\n",
       " 'was',\n",
       " 'fickle',\n",
       " 'as',\n",
       " 'Ann',\n",
       " '.',\n",
       " 'If',\n",
       " 'he',\n",
       " 'had',\n",
       " 'married',\n",
       " 'her',\n",
       " ',',\n",
       " \"he'd\",\n",
       " 'have',\n",
       " 'been',\n",
       " 'asking',\n",
       " 'for',\n",
       " 'trouble',\n",
       " '.',\n",
       " 'But',\n",
       " 'all',\n",
       " 'of',\n",
       " 'this',\n",
       " 'was',\n",
       " 'rationalization',\n",
       " '.',\n",
       " 'Sometimes']"
      ]
     },
     "execution_count": 4,
     "metadata": {},
     "output_type": "execute_result"
    }
   ],
   "source": [
    "from nltk.corpus import brown\n",
    "brown.fileids() [:20]\n",
    "brown.categories()\n",
    "brown.words(categories=\"adventure\")[:50]"
   ]
  },
  {
   "cell_type": "code",
   "execution_count": 6,
   "metadata": {},
   "outputs": [
    {
     "name": "stdout",
     "output_type": "stream",
     "text": [
      "['adventure', 'belles_lettres', 'editorial', 'fiction', 'government', 'hobbies', 'humor', 'learned', 'lore', 'mystery', 'news', 'religion', 'reviews', 'romance', 'science_fiction']\n"
     ]
    }
   ],
   "source": [
    "from nltk.corpus import brown\n",
    "brown.fileids() [:20]\n",
    "brown.categories()\n",
    "print(brown.categories())\n"
   ]
  },
  {
   "cell_type": "code",
   "execution_count": 7,
   "metadata": {},
   "outputs": [
    {
     "data": {
      "text/plain": [
       "['It',\n",
       " 'was',\n",
       " 'among',\n",
       " 'these',\n",
       " 'that',\n",
       " 'Hinkle',\n",
       " 'identified',\n",
       " 'a',\n",
       " 'photograph',\n",
       " 'of',\n",
       " 'Barco',\n",
       " '!',\n",
       " '!',\n",
       " 'For',\n",
       " 'it',\n",
       " 'seems',\n",
       " 'that',\n",
       " 'Barco',\n",
       " ',',\n",
       " 'fancying',\n",
       " 'himself',\n",
       " 'a',\n",
       " \"ladies'\",\n",
       " 'man',\n",
       " '(',\n",
       " 'and',\n",
       " 'why',\n",
       " 'not',\n",
       " ',',\n",
       " 'after',\n",
       " 'seven',\n",
       " 'marriages',\n",
       " '?',\n",
       " '?',\n",
       " ')',\n",
       " ',',\n",
       " 'had',\n",
       " 'listed',\n",
       " 'himself',\n",
       " 'for',\n",
       " 'Mormon',\n",
       " 'Beard',\n",
       " 'roles',\n",
       " 'at',\n",
       " 'the',\n",
       " 'instigation',\n",
       " 'of',\n",
       " 'his',\n",
       " 'fourth',\n",
       " 'murder']"
      ]
     },
     "execution_count": 7,
     "metadata": {},
     "output_type": "execute_result"
    }
   ],
   "source": [
    "from nltk.corpus import brown\n",
    "brown.fileids() [:20]\n",
    "brown.categories()\n",
    "brown.words(categories=\"humor\")[:50]"
   ]
  },
  {
   "cell_type": "code",
   "execution_count": 8,
   "metadata": {},
   "outputs": [
    {
     "data": {
      "text/plain": [
       "['There',\n",
       " 'were',\n",
       " 'thirty-eight',\n",
       " 'patients',\n",
       " 'on',\n",
       " 'the',\n",
       " 'bus',\n",
       " 'the',\n",
       " 'morning',\n",
       " 'I',\n",
       " 'left',\n",
       " 'for',\n",
       " 'Hanover',\n",
       " ',',\n",
       " 'most',\n",
       " 'of',\n",
       " 'them',\n",
       " 'disturbed',\n",
       " 'and',\n",
       " 'hallucinating',\n",
       " '.',\n",
       " 'An',\n",
       " 'interne',\n",
       " ',',\n",
       " 'a',\n",
       " 'nurse',\n",
       " 'and',\n",
       " 'two',\n",
       " 'attendants',\n",
       " 'were',\n",
       " 'in',\n",
       " 'charge',\n",
       " 'of',\n",
       " 'us',\n",
       " '.',\n",
       " 'I',\n",
       " 'felt',\n",
       " 'lonely',\n",
       " 'and',\n",
       " 'depressed',\n",
       " 'as',\n",
       " 'I',\n",
       " 'stared',\n",
       " 'out',\n",
       " 'the',\n",
       " 'bus',\n",
       " 'window',\n",
       " 'at',\n",
       " \"Chicago's\",\n",
       " 'grim']"
      ]
     },
     "execution_count": 8,
     "metadata": {},
     "output_type": "execute_result"
    }
   ],
   "source": [
    "from nltk.corpus import brown\n",
    "brown.fileids() [:20]\n",
    "brown.categories()\n",
    "brown.words(categories=\"mystery\")[:50]"
   ]
  },
  {
   "cell_type": "code",
   "execution_count": null,
   "metadata": {},
   "outputs": [],
   "source": []
  }
 ],
 "metadata": {
  "kernelspec": {
   "display_name": "Python 3",
   "language": "python",
   "name": "python3"
  },
  "language_info": {
   "codemirror_mode": {
    "name": "ipython",
    "version": 3
   },
   "file_extension": ".py",
   "mimetype": "text/x-python",
   "name": "python",
   "nbconvert_exporter": "python",
   "pygments_lexer": "ipython3",
   "version": "3.7.1"
  }
 },
 "nbformat": 4,
 "nbformat_minor": 2
}
