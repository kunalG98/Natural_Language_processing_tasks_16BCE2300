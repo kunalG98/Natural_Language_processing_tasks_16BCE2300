{
 "cells": [
  {
   "cell_type": "code",
   "execution_count": 2,
   "metadata": {},
   "outputs": [],
   "source": [
    "from sklearn.feature_extraction.text import CountVectorizer\n",
    "from sklearn.feature_extraction.text import TfidfVectorizer\n",
    "from sklearn.metrics.pairwise import cosine_similarity\n",
    "from nltk.tokenize import sent_tokenize\n",
    "import nltk\n",
    "from nltk.corpus import stopwords\n",
    "from nltk.stem import WordNetLemmatizer"
   ]
  },
  {
   "cell_type": "code",
   "execution_count": 3,
   "metadata": {},
   "outputs": [
    {
     "name": "stdout",
     "output_type": "stream",
     "text": [
      "['i', 'me', 'my', 'myself', 'we', 'our', 'ours', 'ourselves', 'you', \"you're\", \"you've\", \"you'll\", \"you'd\", 'your', 'yours', 'yourself', 'yourselves', 'he', 'him', 'his', 'himself', 'she', \"she's\", 'her', 'hers', 'herself', 'it', \"it's\", 'its', 'itself', 'they', 'them', 'their', 'theirs', 'themselves', 'what', 'which', 'who', 'whom', 'this', 'that', \"that'll\", 'these', 'those', 'am', 'is', 'are', 'was', 'were', 'be', 'been', 'being', 'have', 'has', 'had', 'having', 'do', 'does', 'did', 'doing', 'a', 'an', 'the', 'and', 'but', 'if', 'or', 'because', 'as', 'until', 'while', 'of', 'at', 'by', 'for', 'with', 'about', 'against', 'between', 'into', 'through', 'during', 'before', 'after', 'above', 'below', 'to', 'from', 'up', 'down', 'in', 'out', 'on', 'off', 'over', 'under', 'again', 'further', 'then', 'once', 'here', 'there', 'when', 'where', 'why', 'how', 'all', 'any', 'both', 'each', 'few', 'more', 'most', 'other', 'some', 'such', 'no', 'nor', 'not', 'only', 'own', 'same', 'so', 'than', 'too', 'very', 's', 't', 'can', 'will', 'just', 'don', \"don't\", 'should', \"should've\", 'now', 'd', 'll', 'm', 'o', 're', 've', 'y', 'ain', 'aren', \"aren't\", 'couldn', \"couldn't\", 'didn', \"didn't\", 'doesn', \"doesn't\", 'hadn', \"hadn't\", 'hasn', \"hasn't\", 'haven', \"haven't\", 'isn', \"isn't\", 'ma', 'mightn', \"mightn't\", 'mustn', \"mustn't\", 'needn', \"needn't\", 'shan', \"shan't\", 'shouldn', \"shouldn't\", 'wasn', \"wasn't\", 'weren', \"weren't\", 'won', \"won't\", 'wouldn', \"wouldn't\"]\n"
     ]
    }
   ],
   "source": [
    "stopWords = stopwords.words('english')\n",
    "print(stopWords)"
   ]
  },
  {
   "cell_type": "code",
   "execution_count": 4,
   "metadata": {},
   "outputs": [],
   "source": [
    "text1 = \"Fifty people were killed and 50 others wounded in a terror attack on two mosques in Christchurch, New Zealand, police announced Sunday.The unprecedented mass shootings were carefully planned, and have shocked the usually peaceful nation. New Zealand Prime Minister Jacinda Ardern described the attack on Friday as one of her countrys darkest days. She said that the suspects held extremist views that have no place in New Zealand or anywhere else in the world.\""
   ]
  },
  {
   "cell_type": "code",
   "execution_count": 5,
   "metadata": {},
   "outputs": [],
   "source": [
    "text2 = \"The number of people killed in Friday’s massacre in Christchurch rose to 50 when another body was discovered at the Al Noor mosque, where most of the victims were killed. A total of 34 patients injured in the attack remain in Christchurch Hospital, including 12 people in intensive care.\""
   ]
  },
  {
   "cell_type": "code",
   "execution_count": 6,
   "metadata": {},
   "outputs": [],
   "source": [
    "wordnet_lemmatizer = WordNetLemmatizer()\n",
    "def normalize(sentence):\n",
    "    l1=list()\n",
    "    sentence_words = nltk.word_tokenize(sentence)\n",
    "    #print(sentence_words)\n",
    "    for word in sentence_words:\n",
    "        #print(word)\n",
    "        #print(wordnet_lemmatizer.lemmatize(word))\n",
    "        l1.append(wordnet_lemmatizer.lemmatize(word, pos=\"v\"))\n",
    "        print(l1)\n",
    "    return l1"
   ]
  },
  {
   "cell_type": "code",
   "execution_count": 7,
   "metadata": {},
   "outputs": [],
   "source": [
    "vectorizer = TfidfVectorizer(tokenizer=normalize)\n",
    "def cosine_sim(text1, text2):\n",
    "    tfidf = vectorizer.fit_transform([text1, text2])\n",
    "    return ((tfidf * tfidf.T).A)[0,1]"
   ]
  },
  {
   "cell_type": "code",
   "execution_count": 8,
   "metadata": {},
   "outputs": [
    {
     "name": "stdout",
     "output_type": "stream",
     "text": [
      "['fifty']\n",
      "['fifty', 'people']\n",
      "['fifty', 'people', 'be']\n",
      "['fifty', 'people', 'be', 'kill']\n",
      "['fifty', 'people', 'be', 'kill', 'and']\n",
      "['fifty', 'people', 'be', 'kill', 'and', '50']\n",
      "['fifty', 'people', 'be', 'kill', 'and', '50', 'others']\n",
      "['fifty', 'people', 'be', 'kill', 'and', '50', 'others', 'wound']\n",
      "['fifty', 'people', 'be', 'kill', 'and', '50', 'others', 'wound', 'in']\n",
      "['fifty', 'people', 'be', 'kill', 'and', '50', 'others', 'wound', 'in', 'a']\n",
      "['fifty', 'people', 'be', 'kill', 'and', '50', 'others', 'wound', 'in', 'a', 'terror']\n",
      "['fifty', 'people', 'be', 'kill', 'and', '50', 'others', 'wound', 'in', 'a', 'terror', 'attack']\n",
      "['fifty', 'people', 'be', 'kill', 'and', '50', 'others', 'wound', 'in', 'a', 'terror', 'attack', 'on']\n",
      "['fifty', 'people', 'be', 'kill', 'and', '50', 'others', 'wound', 'in', 'a', 'terror', 'attack', 'on', 'two']\n",
      "['fifty', 'people', 'be', 'kill', 'and', '50', 'others', 'wound', 'in', 'a', 'terror', 'attack', 'on', 'two', 'mosques']\n",
      "['fifty', 'people', 'be', 'kill', 'and', '50', 'others', 'wound', 'in', 'a', 'terror', 'attack', 'on', 'two', 'mosques', 'in']\n",
      "['fifty', 'people', 'be', 'kill', 'and', '50', 'others', 'wound', 'in', 'a', 'terror', 'attack', 'on', 'two', 'mosques', 'in', 'christchurch']\n",
      "['fifty', 'people', 'be', 'kill', 'and', '50', 'others', 'wound', 'in', 'a', 'terror', 'attack', 'on', 'two', 'mosques', 'in', 'christchurch', ',']\n",
      "['fifty', 'people', 'be', 'kill', 'and', '50', 'others', 'wound', 'in', 'a', 'terror', 'attack', 'on', 'two', 'mosques', 'in', 'christchurch', ',', 'new']\n",
      "['fifty', 'people', 'be', 'kill', 'and', '50', 'others', 'wound', 'in', 'a', 'terror', 'attack', 'on', 'two', 'mosques', 'in', 'christchurch', ',', 'new', 'zealand']\n",
      "['fifty', 'people', 'be', 'kill', 'and', '50', 'others', 'wound', 'in', 'a', 'terror', 'attack', 'on', 'two', 'mosques', 'in', 'christchurch', ',', 'new', 'zealand', ',']\n",
      "['fifty', 'people', 'be', 'kill', 'and', '50', 'others', 'wound', 'in', 'a', 'terror', 'attack', 'on', 'two', 'mosques', 'in', 'christchurch', ',', 'new', 'zealand', ',', 'police']\n",
      "['fifty', 'people', 'be', 'kill', 'and', '50', 'others', 'wound', 'in', 'a', 'terror', 'attack', 'on', 'two', 'mosques', 'in', 'christchurch', ',', 'new', 'zealand', ',', 'police', 'announce']\n",
      "['fifty', 'people', 'be', 'kill', 'and', '50', 'others', 'wound', 'in', 'a', 'terror', 'attack', 'on', 'two', 'mosques', 'in', 'christchurch', ',', 'new', 'zealand', ',', 'police', 'announce', 'sunday.the']\n",
      "['fifty', 'people', 'be', 'kill', 'and', '50', 'others', 'wound', 'in', 'a', 'terror', 'attack', 'on', 'two', 'mosques', 'in', 'christchurch', ',', 'new', 'zealand', ',', 'police', 'announce', 'sunday.the', 'unprecedented']\n",
      "['fifty', 'people', 'be', 'kill', 'and', '50', 'others', 'wound', 'in', 'a', 'terror', 'attack', 'on', 'two', 'mosques', 'in', 'christchurch', ',', 'new', 'zealand', ',', 'police', 'announce', 'sunday.the', 'unprecedented', 'mass']\n",
      "['fifty', 'people', 'be', 'kill', 'and', '50', 'others', 'wound', 'in', 'a', 'terror', 'attack', 'on', 'two', 'mosques', 'in', 'christchurch', ',', 'new', 'zealand', ',', 'police', 'announce', 'sunday.the', 'unprecedented', 'mass', 'shoot']\n",
      "['fifty', 'people', 'be', 'kill', 'and', '50', 'others', 'wound', 'in', 'a', 'terror', 'attack', 'on', 'two', 'mosques', 'in', 'christchurch', ',', 'new', 'zealand', ',', 'police', 'announce', 'sunday.the', 'unprecedented', 'mass', 'shoot', 'be']\n",
      "['fifty', 'people', 'be', 'kill', 'and', '50', 'others', 'wound', 'in', 'a', 'terror', 'attack', 'on', 'two', 'mosques', 'in', 'christchurch', ',', 'new', 'zealand', ',', 'police', 'announce', 'sunday.the', 'unprecedented', 'mass', 'shoot', 'be', 'carefully']\n",
      "['fifty', 'people', 'be', 'kill', 'and', '50', 'others', 'wound', 'in', 'a', 'terror', 'attack', 'on', 'two', 'mosques', 'in', 'christchurch', ',', 'new', 'zealand', ',', 'police', 'announce', 'sunday.the', 'unprecedented', 'mass', 'shoot', 'be', 'carefully', 'plan']\n",
      "['fifty', 'people', 'be', 'kill', 'and', '50', 'others', 'wound', 'in', 'a', 'terror', 'attack', 'on', 'two', 'mosques', 'in', 'christchurch', ',', 'new', 'zealand', ',', 'police', 'announce', 'sunday.the', 'unprecedented', 'mass', 'shoot', 'be', 'carefully', 'plan', ',']\n",
      "['fifty', 'people', 'be', 'kill', 'and', '50', 'others', 'wound', 'in', 'a', 'terror', 'attack', 'on', 'two', 'mosques', 'in', 'christchurch', ',', 'new', 'zealand', ',', 'police', 'announce', 'sunday.the', 'unprecedented', 'mass', 'shoot', 'be', 'carefully', 'plan', ',', 'and']\n",
      "['fifty', 'people', 'be', 'kill', 'and', '50', 'others', 'wound', 'in', 'a', 'terror', 'attack', 'on', 'two', 'mosques', 'in', 'christchurch', ',', 'new', 'zealand', ',', 'police', 'announce', 'sunday.the', 'unprecedented', 'mass', 'shoot', 'be', 'carefully', 'plan', ',', 'and', 'have']\n",
      "['fifty', 'people', 'be', 'kill', 'and', '50', 'others', 'wound', 'in', 'a', 'terror', 'attack', 'on', 'two', 'mosques', 'in', 'christchurch', ',', 'new', 'zealand', ',', 'police', 'announce', 'sunday.the', 'unprecedented', 'mass', 'shoot', 'be', 'carefully', 'plan', ',', 'and', 'have', 'shock']\n",
      "['fifty', 'people', 'be', 'kill', 'and', '50', 'others', 'wound', 'in', 'a', 'terror', 'attack', 'on', 'two', 'mosques', 'in', 'christchurch', ',', 'new', 'zealand', ',', 'police', 'announce', 'sunday.the', 'unprecedented', 'mass', 'shoot', 'be', 'carefully', 'plan', ',', 'and', 'have', 'shock', 'the']\n",
      "['fifty', 'people', 'be', 'kill', 'and', '50', 'others', 'wound', 'in', 'a', 'terror', 'attack', 'on', 'two', 'mosques', 'in', 'christchurch', ',', 'new', 'zealand', ',', 'police', 'announce', 'sunday.the', 'unprecedented', 'mass', 'shoot', 'be', 'carefully', 'plan', ',', 'and', 'have', 'shock', 'the', 'usually']\n",
      "['fifty', 'people', 'be', 'kill', 'and', '50', 'others', 'wound', 'in', 'a', 'terror', 'attack', 'on', 'two', 'mosques', 'in', 'christchurch', ',', 'new', 'zealand', ',', 'police', 'announce', 'sunday.the', 'unprecedented', 'mass', 'shoot', 'be', 'carefully', 'plan', ',', 'and', 'have', 'shock', 'the', 'usually', 'peaceful']\n",
      "['fifty', 'people', 'be', 'kill', 'and', '50', 'others', 'wound', 'in', 'a', 'terror', 'attack', 'on', 'two', 'mosques', 'in', 'christchurch', ',', 'new', 'zealand', ',', 'police', 'announce', 'sunday.the', 'unprecedented', 'mass', 'shoot', 'be', 'carefully', 'plan', ',', 'and', 'have', 'shock', 'the', 'usually', 'peaceful', 'nation']\n",
      "['fifty', 'people', 'be', 'kill', 'and', '50', 'others', 'wound', 'in', 'a', 'terror', 'attack', 'on', 'two', 'mosques', 'in', 'christchurch', ',', 'new', 'zealand', ',', 'police', 'announce', 'sunday.the', 'unprecedented', 'mass', 'shoot', 'be', 'carefully', 'plan', ',', 'and', 'have', 'shock', 'the', 'usually', 'peaceful', 'nation', '.']\n",
      "['fifty', 'people', 'be', 'kill', 'and', '50', 'others', 'wound', 'in', 'a', 'terror', 'attack', 'on', 'two', 'mosques', 'in', 'christchurch', ',', 'new', 'zealand', ',', 'police', 'announce', 'sunday.the', 'unprecedented', 'mass', 'shoot', 'be', 'carefully', 'plan', ',', 'and', 'have', 'shock', 'the', 'usually', 'peaceful', 'nation', '.', 'new']\n",
      "['fifty', 'people', 'be', 'kill', 'and', '50', 'others', 'wound', 'in', 'a', 'terror', 'attack', 'on', 'two', 'mosques', 'in', 'christchurch', ',', 'new', 'zealand', ',', 'police', 'announce', 'sunday.the', 'unprecedented', 'mass', 'shoot', 'be', 'carefully', 'plan', ',', 'and', 'have', 'shock', 'the', 'usually', 'peaceful', 'nation', '.', 'new', 'zealand']\n",
      "['fifty', 'people', 'be', 'kill', 'and', '50', 'others', 'wound', 'in', 'a', 'terror', 'attack', 'on', 'two', 'mosques', 'in', 'christchurch', ',', 'new', 'zealand', ',', 'police', 'announce', 'sunday.the', 'unprecedented', 'mass', 'shoot', 'be', 'carefully', 'plan', ',', 'and', 'have', 'shock', 'the', 'usually', 'peaceful', 'nation', '.', 'new', 'zealand', 'prime']\n",
      "['fifty', 'people', 'be', 'kill', 'and', '50', 'others', 'wound', 'in', 'a', 'terror', 'attack', 'on', 'two', 'mosques', 'in', 'christchurch', ',', 'new', 'zealand', ',', 'police', 'announce', 'sunday.the', 'unprecedented', 'mass', 'shoot', 'be', 'carefully', 'plan', ',', 'and', 'have', 'shock', 'the', 'usually', 'peaceful', 'nation', '.', 'new', 'zealand', 'prime', 'minister']\n",
      "['fifty', 'people', 'be', 'kill', 'and', '50', 'others', 'wound', 'in', 'a', 'terror', 'attack', 'on', 'two', 'mosques', 'in', 'christchurch', ',', 'new', 'zealand', ',', 'police', 'announce', 'sunday.the', 'unprecedented', 'mass', 'shoot', 'be', 'carefully', 'plan', ',', 'and', 'have', 'shock', 'the', 'usually', 'peaceful', 'nation', '.', 'new', 'zealand', 'prime', 'minister', 'jacinda']\n",
      "['fifty', 'people', 'be', 'kill', 'and', '50', 'others', 'wound', 'in', 'a', 'terror', 'attack', 'on', 'two', 'mosques', 'in', 'christchurch', ',', 'new', 'zealand', ',', 'police', 'announce', 'sunday.the', 'unprecedented', 'mass', 'shoot', 'be', 'carefully', 'plan', ',', 'and', 'have', 'shock', 'the', 'usually', 'peaceful', 'nation', '.', 'new', 'zealand', 'prime', 'minister', 'jacinda', 'ardern']\n",
      "['fifty', 'people', 'be', 'kill', 'and', '50', 'others', 'wound', 'in', 'a', 'terror', 'attack', 'on', 'two', 'mosques', 'in', 'christchurch', ',', 'new', 'zealand', ',', 'police', 'announce', 'sunday.the', 'unprecedented', 'mass', 'shoot', 'be', 'carefully', 'plan', ',', 'and', 'have', 'shock', 'the', 'usually', 'peaceful', 'nation', '.', 'new', 'zealand', 'prime', 'minister', 'jacinda', 'ardern', 'describe']\n",
      "['fifty', 'people', 'be', 'kill', 'and', '50', 'others', 'wound', 'in', 'a', 'terror', 'attack', 'on', 'two', 'mosques', 'in', 'christchurch', ',', 'new', 'zealand', ',', 'police', 'announce', 'sunday.the', 'unprecedented', 'mass', 'shoot', 'be', 'carefully', 'plan', ',', 'and', 'have', 'shock', 'the', 'usually', 'peaceful', 'nation', '.', 'new', 'zealand', 'prime', 'minister', 'jacinda', 'ardern', 'describe', 'the']\n",
      "['fifty', 'people', 'be', 'kill', 'and', '50', 'others', 'wound', 'in', 'a', 'terror', 'attack', 'on', 'two', 'mosques', 'in', 'christchurch', ',', 'new', 'zealand', ',', 'police', 'announce', 'sunday.the', 'unprecedented', 'mass', 'shoot', 'be', 'carefully', 'plan', ',', 'and', 'have', 'shock', 'the', 'usually', 'peaceful', 'nation', '.', 'new', 'zealand', 'prime', 'minister', 'jacinda', 'ardern', 'describe', 'the', 'attack']\n",
      "['fifty', 'people', 'be', 'kill', 'and', '50', 'others', 'wound', 'in', 'a', 'terror', 'attack', 'on', 'two', 'mosques', 'in', 'christchurch', ',', 'new', 'zealand', ',', 'police', 'announce', 'sunday.the', 'unprecedented', 'mass', 'shoot', 'be', 'carefully', 'plan', ',', 'and', 'have', 'shock', 'the', 'usually', 'peaceful', 'nation', '.', 'new', 'zealand', 'prime', 'minister', 'jacinda', 'ardern', 'describe', 'the', 'attack', 'on']\n",
      "['fifty', 'people', 'be', 'kill', 'and', '50', 'others', 'wound', 'in', 'a', 'terror', 'attack', 'on', 'two', 'mosques', 'in', 'christchurch', ',', 'new', 'zealand', ',', 'police', 'announce', 'sunday.the', 'unprecedented', 'mass', 'shoot', 'be', 'carefully', 'plan', ',', 'and', 'have', 'shock', 'the', 'usually', 'peaceful', 'nation', '.', 'new', 'zealand', 'prime', 'minister', 'jacinda', 'ardern', 'describe', 'the', 'attack', 'on', 'friday']\n",
      "['fifty', 'people', 'be', 'kill', 'and', '50', 'others', 'wound', 'in', 'a', 'terror', 'attack', 'on', 'two', 'mosques', 'in', 'christchurch', ',', 'new', 'zealand', ',', 'police', 'announce', 'sunday.the', 'unprecedented', 'mass', 'shoot', 'be', 'carefully', 'plan', ',', 'and', 'have', 'shock', 'the', 'usually', 'peaceful', 'nation', '.', 'new', 'zealand', 'prime', 'minister', 'jacinda', 'ardern', 'describe', 'the', 'attack', 'on', 'friday', 'as']\n",
      "['fifty', 'people', 'be', 'kill', 'and', '50', 'others', 'wound', 'in', 'a', 'terror', 'attack', 'on', 'two', 'mosques', 'in', 'christchurch', ',', 'new', 'zealand', ',', 'police', 'announce', 'sunday.the', 'unprecedented', 'mass', 'shoot', 'be', 'carefully', 'plan', ',', 'and', 'have', 'shock', 'the', 'usually', 'peaceful', 'nation', '.', 'new', 'zealand', 'prime', 'minister', 'jacinda', 'ardern', 'describe', 'the', 'attack', 'on', 'friday', 'as', 'one']\n",
      "['fifty', 'people', 'be', 'kill', 'and', '50', 'others', 'wound', 'in', 'a', 'terror', 'attack', 'on', 'two', 'mosques', 'in', 'christchurch', ',', 'new', 'zealand', ',', 'police', 'announce', 'sunday.the', 'unprecedented', 'mass', 'shoot', 'be', 'carefully', 'plan', ',', 'and', 'have', 'shock', 'the', 'usually', 'peaceful', 'nation', '.', 'new', 'zealand', 'prime', 'minister', 'jacinda', 'ardern', 'describe', 'the', 'attack', 'on', 'friday', 'as', 'one', 'of']\n",
      "['fifty', 'people', 'be', 'kill', 'and', '50', 'others', 'wound', 'in', 'a', 'terror', 'attack', 'on', 'two', 'mosques', 'in', 'christchurch', ',', 'new', 'zealand', ',', 'police', 'announce', 'sunday.the', 'unprecedented', 'mass', 'shoot', 'be', 'carefully', 'plan', ',', 'and', 'have', 'shock', 'the', 'usually', 'peaceful', 'nation', '.', 'new', 'zealand', 'prime', 'minister', 'jacinda', 'ardern', 'describe', 'the', 'attack', 'on', 'friday', 'as', 'one', 'of', 'her']\n",
      "['fifty', 'people', 'be', 'kill', 'and', '50', 'others', 'wound', 'in', 'a', 'terror', 'attack', 'on', 'two', 'mosques', 'in', 'christchurch', ',', 'new', 'zealand', ',', 'police', 'announce', 'sunday.the', 'unprecedented', 'mass', 'shoot', 'be', 'carefully', 'plan', ',', 'and', 'have', 'shock', 'the', 'usually', 'peaceful', 'nation', '.', 'new', 'zealand', 'prime', 'minister', 'jacinda', 'ardern', 'describe', 'the', 'attack', 'on', 'friday', 'as', 'one', 'of', 'her', 'countrys']\n",
      "['fifty', 'people', 'be', 'kill', 'and', '50', 'others', 'wound', 'in', 'a', 'terror', 'attack', 'on', 'two', 'mosques', 'in', 'christchurch', ',', 'new', 'zealand', ',', 'police', 'announce', 'sunday.the', 'unprecedented', 'mass', 'shoot', 'be', 'carefully', 'plan', ',', 'and', 'have', 'shock', 'the', 'usually', 'peaceful', 'nation', '.', 'new', 'zealand', 'prime', 'minister', 'jacinda', 'ardern', 'describe', 'the', 'attack', 'on', 'friday', 'as', 'one', 'of', 'her', 'countrys', 'darkest']\n",
      "['fifty', 'people', 'be', 'kill', 'and', '50', 'others', 'wound', 'in', 'a', 'terror', 'attack', 'on', 'two', 'mosques', 'in', 'christchurch', ',', 'new', 'zealand', ',', 'police', 'announce', 'sunday.the', 'unprecedented', 'mass', 'shoot', 'be', 'carefully', 'plan', ',', 'and', 'have', 'shock', 'the', 'usually', 'peaceful', 'nation', '.', 'new', 'zealand', 'prime', 'minister', 'jacinda', 'ardern', 'describe', 'the', 'attack', 'on', 'friday', 'as', 'one', 'of', 'her', 'countrys', 'darkest', 'days']\n",
      "['fifty', 'people', 'be', 'kill', 'and', '50', 'others', 'wound', 'in', 'a', 'terror', 'attack', 'on', 'two', 'mosques', 'in', 'christchurch', ',', 'new', 'zealand', ',', 'police', 'announce', 'sunday.the', 'unprecedented', 'mass', 'shoot', 'be', 'carefully', 'plan', ',', 'and', 'have', 'shock', 'the', 'usually', 'peaceful', 'nation', '.', 'new', 'zealand', 'prime', 'minister', 'jacinda', 'ardern', 'describe', 'the', 'attack', 'on', 'friday', 'as', 'one', 'of', 'her', 'countrys', 'darkest', 'days', '.']\n",
      "['fifty', 'people', 'be', 'kill', 'and', '50', 'others', 'wound', 'in', 'a', 'terror', 'attack', 'on', 'two', 'mosques', 'in', 'christchurch', ',', 'new', 'zealand', ',', 'police', 'announce', 'sunday.the', 'unprecedented', 'mass', 'shoot', 'be', 'carefully', 'plan', ',', 'and', 'have', 'shock', 'the', 'usually', 'peaceful', 'nation', '.', 'new', 'zealand', 'prime', 'minister', 'jacinda', 'ardern', 'describe', 'the', 'attack', 'on', 'friday', 'as', 'one', 'of', 'her', 'countrys', 'darkest', 'days', '.', 'she']\n",
      "['fifty', 'people', 'be', 'kill', 'and', '50', 'others', 'wound', 'in', 'a', 'terror', 'attack', 'on', 'two', 'mosques', 'in', 'christchurch', ',', 'new', 'zealand', ',', 'police', 'announce', 'sunday.the', 'unprecedented', 'mass', 'shoot', 'be', 'carefully', 'plan', ',', 'and', 'have', 'shock', 'the', 'usually', 'peaceful', 'nation', '.', 'new', 'zealand', 'prime', 'minister', 'jacinda', 'ardern', 'describe', 'the', 'attack', 'on', 'friday', 'as', 'one', 'of', 'her', 'countrys', 'darkest', 'days', '.', 'she', 'say']\n",
      "['fifty', 'people', 'be', 'kill', 'and', '50', 'others', 'wound', 'in', 'a', 'terror', 'attack', 'on', 'two', 'mosques', 'in', 'christchurch', ',', 'new', 'zealand', ',', 'police', 'announce', 'sunday.the', 'unprecedented', 'mass', 'shoot', 'be', 'carefully', 'plan', ',', 'and', 'have', 'shock', 'the', 'usually', 'peaceful', 'nation', '.', 'new', 'zealand', 'prime', 'minister', 'jacinda', 'ardern', 'describe', 'the', 'attack', 'on', 'friday', 'as', 'one', 'of', 'her', 'countrys', 'darkest', 'days', '.', 'she', 'say', 'that']\n",
      "['fifty', 'people', 'be', 'kill', 'and', '50', 'others', 'wound', 'in', 'a', 'terror', 'attack', 'on', 'two', 'mosques', 'in', 'christchurch', ',', 'new', 'zealand', ',', 'police', 'announce', 'sunday.the', 'unprecedented', 'mass', 'shoot', 'be', 'carefully', 'plan', ',', 'and', 'have', 'shock', 'the', 'usually', 'peaceful', 'nation', '.', 'new', 'zealand', 'prime', 'minister', 'jacinda', 'ardern', 'describe', 'the', 'attack', 'on', 'friday', 'as', 'one', 'of', 'her', 'countrys', 'darkest', 'days', '.', 'she', 'say', 'that', 'the']\n",
      "['fifty', 'people', 'be', 'kill', 'and', '50', 'others', 'wound', 'in', 'a', 'terror', 'attack', 'on', 'two', 'mosques', 'in', 'christchurch', ',', 'new', 'zealand', ',', 'police', 'announce', 'sunday.the', 'unprecedented', 'mass', 'shoot', 'be', 'carefully', 'plan', ',', 'and', 'have', 'shock', 'the', 'usually', 'peaceful', 'nation', '.', 'new', 'zealand', 'prime', 'minister', 'jacinda', 'ardern', 'describe', 'the', 'attack', 'on', 'friday', 'as', 'one', 'of', 'her', 'countrys', 'darkest', 'days', '.', 'she', 'say', 'that', 'the', 'suspect']\n",
      "['fifty', 'people', 'be', 'kill', 'and', '50', 'others', 'wound', 'in', 'a', 'terror', 'attack', 'on', 'two', 'mosques', 'in', 'christchurch', ',', 'new', 'zealand', ',', 'police', 'announce', 'sunday.the', 'unprecedented', 'mass', 'shoot', 'be', 'carefully', 'plan', ',', 'and', 'have', 'shock', 'the', 'usually', 'peaceful', 'nation', '.', 'new', 'zealand', 'prime', 'minister', 'jacinda', 'ardern', 'describe', 'the', 'attack', 'on', 'friday', 'as', 'one', 'of', 'her', 'countrys', 'darkest', 'days', '.', 'she', 'say', 'that', 'the', 'suspect', 'hold']\n",
      "['fifty', 'people', 'be', 'kill', 'and', '50', 'others', 'wound', 'in', 'a', 'terror', 'attack', 'on', 'two', 'mosques', 'in', 'christchurch', ',', 'new', 'zealand', ',', 'police', 'announce', 'sunday.the', 'unprecedented', 'mass', 'shoot', 'be', 'carefully', 'plan', ',', 'and', 'have', 'shock', 'the', 'usually', 'peaceful', 'nation', '.', 'new', 'zealand', 'prime', 'minister', 'jacinda', 'ardern', 'describe', 'the', 'attack', 'on', 'friday', 'as', 'one', 'of', 'her', 'countrys', 'darkest', 'days', '.', 'she', 'say', 'that', 'the', 'suspect', 'hold', 'extremist']\n",
      "['fifty', 'people', 'be', 'kill', 'and', '50', 'others', 'wound', 'in', 'a', 'terror', 'attack', 'on', 'two', 'mosques', 'in', 'christchurch', ',', 'new', 'zealand', ',', 'police', 'announce', 'sunday.the', 'unprecedented', 'mass', 'shoot', 'be', 'carefully', 'plan', ',', 'and', 'have', 'shock', 'the', 'usually', 'peaceful', 'nation', '.', 'new', 'zealand', 'prime', 'minister', 'jacinda', 'ardern', 'describe', 'the', 'attack', 'on', 'friday', 'as', 'one', 'of', 'her', 'countrys', 'darkest', 'days', '.', 'she', 'say', 'that', 'the', 'suspect', 'hold', 'extremist', 'view']\n",
      "['fifty', 'people', 'be', 'kill', 'and', '50', 'others', 'wound', 'in', 'a', 'terror', 'attack', 'on', 'two', 'mosques', 'in', 'christchurch', ',', 'new', 'zealand', ',', 'police', 'announce', 'sunday.the', 'unprecedented', 'mass', 'shoot', 'be', 'carefully', 'plan', ',', 'and', 'have', 'shock', 'the', 'usually', 'peaceful', 'nation', '.', 'new', 'zealand', 'prime', 'minister', 'jacinda', 'ardern', 'describe', 'the', 'attack', 'on', 'friday', 'as', 'one', 'of', 'her', 'countrys', 'darkest', 'days', '.', 'she', 'say', 'that', 'the', 'suspect', 'hold', 'extremist', 'view', 'that']\n",
      "['fifty', 'people', 'be', 'kill', 'and', '50', 'others', 'wound', 'in', 'a', 'terror', 'attack', 'on', 'two', 'mosques', 'in', 'christchurch', ',', 'new', 'zealand', ',', 'police', 'announce', 'sunday.the', 'unprecedented', 'mass', 'shoot', 'be', 'carefully', 'plan', ',', 'and', 'have', 'shock', 'the', 'usually', 'peaceful', 'nation', '.', 'new', 'zealand', 'prime', 'minister', 'jacinda', 'ardern', 'describe', 'the', 'attack', 'on', 'friday', 'as', 'one', 'of', 'her', 'countrys', 'darkest', 'days', '.', 'she', 'say', 'that', 'the', 'suspect', 'hold', 'extremist', 'view', 'that', 'have']\n",
      "['fifty', 'people', 'be', 'kill', 'and', '50', 'others', 'wound', 'in', 'a', 'terror', 'attack', 'on', 'two', 'mosques', 'in', 'christchurch', ',', 'new', 'zealand', ',', 'police', 'announce', 'sunday.the', 'unprecedented', 'mass', 'shoot', 'be', 'carefully', 'plan', ',', 'and', 'have', 'shock', 'the', 'usually', 'peaceful', 'nation', '.', 'new', 'zealand', 'prime', 'minister', 'jacinda', 'ardern', 'describe', 'the', 'attack', 'on', 'friday', 'as', 'one', 'of', 'her', 'countrys', 'darkest', 'days', '.', 'she', 'say', 'that', 'the', 'suspect', 'hold', 'extremist', 'view', 'that', 'have', 'no']\n",
      "['fifty', 'people', 'be', 'kill', 'and', '50', 'others', 'wound', 'in', 'a', 'terror', 'attack', 'on', 'two', 'mosques', 'in', 'christchurch', ',', 'new', 'zealand', ',', 'police', 'announce', 'sunday.the', 'unprecedented', 'mass', 'shoot', 'be', 'carefully', 'plan', ',', 'and', 'have', 'shock', 'the', 'usually', 'peaceful', 'nation', '.', 'new', 'zealand', 'prime', 'minister', 'jacinda', 'ardern', 'describe', 'the', 'attack', 'on', 'friday', 'as', 'one', 'of', 'her', 'countrys', 'darkest', 'days', '.', 'she', 'say', 'that', 'the', 'suspect', 'hold', 'extremist', 'view', 'that', 'have', 'no', 'place']\n",
      "['fifty', 'people', 'be', 'kill', 'and', '50', 'others', 'wound', 'in', 'a', 'terror', 'attack', 'on', 'two', 'mosques', 'in', 'christchurch', ',', 'new', 'zealand', ',', 'police', 'announce', 'sunday.the', 'unprecedented', 'mass', 'shoot', 'be', 'carefully', 'plan', ',', 'and', 'have', 'shock', 'the', 'usually', 'peaceful', 'nation', '.', 'new', 'zealand', 'prime', 'minister', 'jacinda', 'ardern', 'describe', 'the', 'attack', 'on', 'friday', 'as', 'one', 'of', 'her', 'countrys', 'darkest', 'days', '.', 'she', 'say', 'that', 'the', 'suspect', 'hold', 'extremist', 'view', 'that', 'have', 'no', 'place', 'in']\n",
      "['fifty', 'people', 'be', 'kill', 'and', '50', 'others', 'wound', 'in', 'a', 'terror', 'attack', 'on', 'two', 'mosques', 'in', 'christchurch', ',', 'new', 'zealand', ',', 'police', 'announce', 'sunday.the', 'unprecedented', 'mass', 'shoot', 'be', 'carefully', 'plan', ',', 'and', 'have', 'shock', 'the', 'usually', 'peaceful', 'nation', '.', 'new', 'zealand', 'prime', 'minister', 'jacinda', 'ardern', 'describe', 'the', 'attack', 'on', 'friday', 'as', 'one', 'of', 'her', 'countrys', 'darkest', 'days', '.', 'she', 'say', 'that', 'the', 'suspect', 'hold', 'extremist', 'view', 'that', 'have', 'no', 'place', 'in', 'new']\n",
      "['fifty', 'people', 'be', 'kill', 'and', '50', 'others', 'wound', 'in', 'a', 'terror', 'attack', 'on', 'two', 'mosques', 'in', 'christchurch', ',', 'new', 'zealand', ',', 'police', 'announce', 'sunday.the', 'unprecedented', 'mass', 'shoot', 'be', 'carefully', 'plan', ',', 'and', 'have', 'shock', 'the', 'usually', 'peaceful', 'nation', '.', 'new', 'zealand', 'prime', 'minister', 'jacinda', 'ardern', 'describe', 'the', 'attack', 'on', 'friday', 'as', 'one', 'of', 'her', 'countrys', 'darkest', 'days', '.', 'she', 'say', 'that', 'the', 'suspect', 'hold', 'extremist', 'view', 'that', 'have', 'no', 'place', 'in', 'new', 'zealand']\n",
      "['fifty', 'people', 'be', 'kill', 'and', '50', 'others', 'wound', 'in', 'a', 'terror', 'attack', 'on', 'two', 'mosques', 'in', 'christchurch', ',', 'new', 'zealand', ',', 'police', 'announce', 'sunday.the', 'unprecedented', 'mass', 'shoot', 'be', 'carefully', 'plan', ',', 'and', 'have', 'shock', 'the', 'usually', 'peaceful', 'nation', '.', 'new', 'zealand', 'prime', 'minister', 'jacinda', 'ardern', 'describe', 'the', 'attack', 'on', 'friday', 'as', 'one', 'of', 'her', 'countrys', 'darkest', 'days', '.', 'she', 'say', 'that', 'the', 'suspect', 'hold', 'extremist', 'view', 'that', 'have', 'no', 'place', 'in', 'new', 'zealand', 'or']\n",
      "['fifty', 'people', 'be', 'kill', 'and', '50', 'others', 'wound', 'in', 'a', 'terror', 'attack', 'on', 'two', 'mosques', 'in', 'christchurch', ',', 'new', 'zealand', ',', 'police', 'announce', 'sunday.the', 'unprecedented', 'mass', 'shoot', 'be', 'carefully', 'plan', ',', 'and', 'have', 'shock', 'the', 'usually', 'peaceful', 'nation', '.', 'new', 'zealand', 'prime', 'minister', 'jacinda', 'ardern', 'describe', 'the', 'attack', 'on', 'friday', 'as', 'one', 'of', 'her', 'countrys', 'darkest', 'days', '.', 'she', 'say', 'that', 'the', 'suspect', 'hold', 'extremist', 'view', 'that', 'have', 'no', 'place', 'in', 'new', 'zealand', 'or', 'anywhere']\n",
      "['fifty', 'people', 'be', 'kill', 'and', '50', 'others', 'wound', 'in', 'a', 'terror', 'attack', 'on', 'two', 'mosques', 'in', 'christchurch', ',', 'new', 'zealand', ',', 'police', 'announce', 'sunday.the', 'unprecedented', 'mass', 'shoot', 'be', 'carefully', 'plan', ',', 'and', 'have', 'shock', 'the', 'usually', 'peaceful', 'nation', '.', 'new', 'zealand', 'prime', 'minister', 'jacinda', 'ardern', 'describe', 'the', 'attack', 'on', 'friday', 'as', 'one', 'of', 'her', 'countrys', 'darkest', 'days', '.', 'she', 'say', 'that', 'the', 'suspect', 'hold', 'extremist', 'view', 'that', 'have', 'no', 'place', 'in', 'new', 'zealand', 'or', 'anywhere', 'else']\n",
      "['fifty', 'people', 'be', 'kill', 'and', '50', 'others', 'wound', 'in', 'a', 'terror', 'attack', 'on', 'two', 'mosques', 'in', 'christchurch', ',', 'new', 'zealand', ',', 'police', 'announce', 'sunday.the', 'unprecedented', 'mass', 'shoot', 'be', 'carefully', 'plan', ',', 'and', 'have', 'shock', 'the', 'usually', 'peaceful', 'nation', '.', 'new', 'zealand', 'prime', 'minister', 'jacinda', 'ardern', 'describe', 'the', 'attack', 'on', 'friday', 'as', 'one', 'of', 'her', 'countrys', 'darkest', 'days', '.', 'she', 'say', 'that', 'the', 'suspect', 'hold', 'extremist', 'view', 'that', 'have', 'no', 'place', 'in', 'new', 'zealand', 'or', 'anywhere', 'else', 'in']\n",
      "['fifty', 'people', 'be', 'kill', 'and', '50', 'others', 'wound', 'in', 'a', 'terror', 'attack', 'on', 'two', 'mosques', 'in', 'christchurch', ',', 'new', 'zealand', ',', 'police', 'announce', 'sunday.the', 'unprecedented', 'mass', 'shoot', 'be', 'carefully', 'plan', ',', 'and', 'have', 'shock', 'the', 'usually', 'peaceful', 'nation', '.', 'new', 'zealand', 'prime', 'minister', 'jacinda', 'ardern', 'describe', 'the', 'attack', 'on', 'friday', 'as', 'one', 'of', 'her', 'countrys', 'darkest', 'days', '.', 'she', 'say', 'that', 'the', 'suspect', 'hold', 'extremist', 'view', 'that', 'have', 'no', 'place', 'in', 'new', 'zealand', 'or', 'anywhere', 'else', 'in', 'the']\n",
      "['fifty', 'people', 'be', 'kill', 'and', '50', 'others', 'wound', 'in', 'a', 'terror', 'attack', 'on', 'two', 'mosques', 'in', 'christchurch', ',', 'new', 'zealand', ',', 'police', 'announce', 'sunday.the', 'unprecedented', 'mass', 'shoot', 'be', 'carefully', 'plan', ',', 'and', 'have', 'shock', 'the', 'usually', 'peaceful', 'nation', '.', 'new', 'zealand', 'prime', 'minister', 'jacinda', 'ardern', 'describe', 'the', 'attack', 'on', 'friday', 'as', 'one', 'of', 'her', 'countrys', 'darkest', 'days', '.', 'she', 'say', 'that', 'the', 'suspect', 'hold', 'extremist', 'view', 'that', 'have', 'no', 'place', 'in', 'new', 'zealand', 'or', 'anywhere', 'else', 'in', 'the', 'world']\n",
      "['fifty', 'people', 'be', 'kill', 'and', '50', 'others', 'wound', 'in', 'a', 'terror', 'attack', 'on', 'two', 'mosques', 'in', 'christchurch', ',', 'new', 'zealand', ',', 'police', 'announce', 'sunday.the', 'unprecedented', 'mass', 'shoot', 'be', 'carefully', 'plan', ',', 'and', 'have', 'shock', 'the', 'usually', 'peaceful', 'nation', '.', 'new', 'zealand', 'prime', 'minister', 'jacinda', 'ardern', 'describe', 'the', 'attack', 'on', 'friday', 'as', 'one', 'of', 'her', 'countrys', 'darkest', 'days', '.', 'she', 'say', 'that', 'the', 'suspect', 'hold', 'extremist', 'view', 'that', 'have', 'no', 'place', 'in', 'new', 'zealand', 'or', 'anywhere', 'else', 'in', 'the', 'world', '.']\n",
      "['the']\n",
      "['the', 'number']\n",
      "['the', 'number', 'of']\n",
      "['the', 'number', 'of', 'people']\n",
      "['the', 'number', 'of', 'people', 'kill']\n",
      "['the', 'number', 'of', 'people', 'kill', 'in']\n",
      "['the', 'number', 'of', 'people', 'kill', 'in', 'friday']\n",
      "['the', 'number', 'of', 'people', 'kill', 'in', 'friday', '’']\n",
      "['the', 'number', 'of', 'people', 'kill', 'in', 'friday', '’', 's']\n",
      "['the', 'number', 'of', 'people', 'kill', 'in', 'friday', '’', 's', 'massacre']\n",
      "['the', 'number', 'of', 'people', 'kill', 'in', 'friday', '’', 's', 'massacre', 'in']\n",
      "['the', 'number', 'of', 'people', 'kill', 'in', 'friday', '’', 's', 'massacre', 'in', 'christchurch']\n",
      "['the', 'number', 'of', 'people', 'kill', 'in', 'friday', '’', 's', 'massacre', 'in', 'christchurch', 'rise']\n",
      "['the', 'number', 'of', 'people', 'kill', 'in', 'friday', '’', 's', 'massacre', 'in', 'christchurch', 'rise', 'to']\n",
      "['the', 'number', 'of', 'people', 'kill', 'in', 'friday', '’', 's', 'massacre', 'in', 'christchurch', 'rise', 'to', '50']\n",
      "['the', 'number', 'of', 'people', 'kill', 'in', 'friday', '’', 's', 'massacre', 'in', 'christchurch', 'rise', 'to', '50', 'when']\n",
      "['the', 'number', 'of', 'people', 'kill', 'in', 'friday', '’', 's', 'massacre', 'in', 'christchurch', 'rise', 'to', '50', 'when', 'another']\n",
      "['the', 'number', 'of', 'people', 'kill', 'in', 'friday', '’', 's', 'massacre', 'in', 'christchurch', 'rise', 'to', '50', 'when', 'another', 'body']\n",
      "['the', 'number', 'of', 'people', 'kill', 'in', 'friday', '’', 's', 'massacre', 'in', 'christchurch', 'rise', 'to', '50', 'when', 'another', 'body', 'be']\n",
      "['the', 'number', 'of', 'people', 'kill', 'in', 'friday', '’', 's', 'massacre', 'in', 'christchurch', 'rise', 'to', '50', 'when', 'another', 'body', 'be', 'discover']\n",
      "['the', 'number', 'of', 'people', 'kill', 'in', 'friday', '’', 's', 'massacre', 'in', 'christchurch', 'rise', 'to', '50', 'when', 'another', 'body', 'be', 'discover', 'at']\n",
      "['the', 'number', 'of', 'people', 'kill', 'in', 'friday', '’', 's', 'massacre', 'in', 'christchurch', 'rise', 'to', '50', 'when', 'another', 'body', 'be', 'discover', 'at', 'the']\n",
      "['the', 'number', 'of', 'people', 'kill', 'in', 'friday', '’', 's', 'massacre', 'in', 'christchurch', 'rise', 'to', '50', 'when', 'another', 'body', 'be', 'discover', 'at', 'the', 'al']\n",
      "['the', 'number', 'of', 'people', 'kill', 'in', 'friday', '’', 's', 'massacre', 'in', 'christchurch', 'rise', 'to', '50', 'when', 'another', 'body', 'be', 'discover', 'at', 'the', 'al', 'noor']\n",
      "['the', 'number', 'of', 'people', 'kill', 'in', 'friday', '’', 's', 'massacre', 'in', 'christchurch', 'rise', 'to', '50', 'when', 'another', 'body', 'be', 'discover', 'at', 'the', 'al', 'noor', 'mosque']\n",
      "['the', 'number', 'of', 'people', 'kill', 'in', 'friday', '’', 's', 'massacre', 'in', 'christchurch', 'rise', 'to', '50', 'when', 'another', 'body', 'be', 'discover', 'at', 'the', 'al', 'noor', 'mosque', ',']\n",
      "['the', 'number', 'of', 'people', 'kill', 'in', 'friday', '’', 's', 'massacre', 'in', 'christchurch', 'rise', 'to', '50', 'when', 'another', 'body', 'be', 'discover', 'at', 'the', 'al', 'noor', 'mosque', ',', 'where']\n",
      "['the', 'number', 'of', 'people', 'kill', 'in', 'friday', '’', 's', 'massacre', 'in', 'christchurch', 'rise', 'to', '50', 'when', 'another', 'body', 'be', 'discover', 'at', 'the', 'al', 'noor', 'mosque', ',', 'where', 'most']\n",
      "['the', 'number', 'of', 'people', 'kill', 'in', 'friday', '’', 's', 'massacre', 'in', 'christchurch', 'rise', 'to', '50', 'when', 'another', 'body', 'be', 'discover', 'at', 'the', 'al', 'noor', 'mosque', ',', 'where', 'most', 'of']\n",
      "['the', 'number', 'of', 'people', 'kill', 'in', 'friday', '’', 's', 'massacre', 'in', 'christchurch', 'rise', 'to', '50', 'when', 'another', 'body', 'be', 'discover', 'at', 'the', 'al', 'noor', 'mosque', ',', 'where', 'most', 'of', 'the']\n",
      "['the', 'number', 'of', 'people', 'kill', 'in', 'friday', '’', 's', 'massacre', 'in', 'christchurch', 'rise', 'to', '50', 'when', 'another', 'body', 'be', 'discover', 'at', 'the', 'al', 'noor', 'mosque', ',', 'where', 'most', 'of', 'the', 'victims']\n",
      "['the', 'number', 'of', 'people', 'kill', 'in', 'friday', '’', 's', 'massacre', 'in', 'christchurch', 'rise', 'to', '50', 'when', 'another', 'body', 'be', 'discover', 'at', 'the', 'al', 'noor', 'mosque', ',', 'where', 'most', 'of', 'the', 'victims', 'be']\n",
      "['the', 'number', 'of', 'people', 'kill', 'in', 'friday', '’', 's', 'massacre', 'in', 'christchurch', 'rise', 'to', '50', 'when', 'another', 'body', 'be', 'discover', 'at', 'the', 'al', 'noor', 'mosque', ',', 'where', 'most', 'of', 'the', 'victims', 'be', 'kill']\n",
      "['the', 'number', 'of', 'people', 'kill', 'in', 'friday', '’', 's', 'massacre', 'in', 'christchurch', 'rise', 'to', '50', 'when', 'another', 'body', 'be', 'discover', 'at', 'the', 'al', 'noor', 'mosque', ',', 'where', 'most', 'of', 'the', 'victims', 'be', 'kill', '.']\n",
      "['the', 'number', 'of', 'people', 'kill', 'in', 'friday', '’', 's', 'massacre', 'in', 'christchurch', 'rise', 'to', '50', 'when', 'another', 'body', 'be', 'discover', 'at', 'the', 'al', 'noor', 'mosque', ',', 'where', 'most', 'of', 'the', 'victims', 'be', 'kill', '.', 'a']\n",
      "['the', 'number', 'of', 'people', 'kill', 'in', 'friday', '’', 's', 'massacre', 'in', 'christchurch', 'rise', 'to', '50', 'when', 'another', 'body', 'be', 'discover', 'at', 'the', 'al', 'noor', 'mosque', ',', 'where', 'most', 'of', 'the', 'victims', 'be', 'kill', '.', 'a', 'total']\n",
      "['the', 'number', 'of', 'people', 'kill', 'in', 'friday', '’', 's', 'massacre', 'in', 'christchurch', 'rise', 'to', '50', 'when', 'another', 'body', 'be', 'discover', 'at', 'the', 'al', 'noor', 'mosque', ',', 'where', 'most', 'of', 'the', 'victims', 'be', 'kill', '.', 'a', 'total', 'of']\n",
      "['the', 'number', 'of', 'people', 'kill', 'in', 'friday', '’', 's', 'massacre', 'in', 'christchurch', 'rise', 'to', '50', 'when', 'another', 'body', 'be', 'discover', 'at', 'the', 'al', 'noor', 'mosque', ',', 'where', 'most', 'of', 'the', 'victims', 'be', 'kill', '.', 'a', 'total', 'of', '34']\n",
      "['the', 'number', 'of', 'people', 'kill', 'in', 'friday', '’', 's', 'massacre', 'in', 'christchurch', 'rise', 'to', '50', 'when', 'another', 'body', 'be', 'discover', 'at', 'the', 'al', 'noor', 'mosque', ',', 'where', 'most', 'of', 'the', 'victims', 'be', 'kill', '.', 'a', 'total', 'of', '34', 'patients']\n",
      "['the', 'number', 'of', 'people', 'kill', 'in', 'friday', '’', 's', 'massacre', 'in', 'christchurch', 'rise', 'to', '50', 'when', 'another', 'body', 'be', 'discover', 'at', 'the', 'al', 'noor', 'mosque', ',', 'where', 'most', 'of', 'the', 'victims', 'be', 'kill', '.', 'a', 'total', 'of', '34', 'patients', 'injure']\n",
      "['the', 'number', 'of', 'people', 'kill', 'in', 'friday', '’', 's', 'massacre', 'in', 'christchurch', 'rise', 'to', '50', 'when', 'another', 'body', 'be', 'discover', 'at', 'the', 'al', 'noor', 'mosque', ',', 'where', 'most', 'of', 'the', 'victims', 'be', 'kill', '.', 'a', 'total', 'of', '34', 'patients', 'injure', 'in']\n",
      "['the', 'number', 'of', 'people', 'kill', 'in', 'friday', '’', 's', 'massacre', 'in', 'christchurch', 'rise', 'to', '50', 'when', 'another', 'body', 'be', 'discover', 'at', 'the', 'al', 'noor', 'mosque', ',', 'where', 'most', 'of', 'the', 'victims', 'be', 'kill', '.', 'a', 'total', 'of', '34', 'patients', 'injure', 'in', 'the']\n",
      "['the', 'number', 'of', 'people', 'kill', 'in', 'friday', '’', 's', 'massacre', 'in', 'christchurch', 'rise', 'to', '50', 'when', 'another', 'body', 'be', 'discover', 'at', 'the', 'al', 'noor', 'mosque', ',', 'where', 'most', 'of', 'the', 'victims', 'be', 'kill', '.', 'a', 'total', 'of', '34', 'patients', 'injure', 'in', 'the', 'attack']\n",
      "['the', 'number', 'of', 'people', 'kill', 'in', 'friday', '’', 's', 'massacre', 'in', 'christchurch', 'rise', 'to', '50', 'when', 'another', 'body', 'be', 'discover', 'at', 'the', 'al', 'noor', 'mosque', ',', 'where', 'most', 'of', 'the', 'victims', 'be', 'kill', '.', 'a', 'total', 'of', '34', 'patients', 'injure', 'in', 'the', 'attack', 'remain']\n",
      "['the', 'number', 'of', 'people', 'kill', 'in', 'friday', '’', 's', 'massacre', 'in', 'christchurch', 'rise', 'to', '50', 'when', 'another', 'body', 'be', 'discover', 'at', 'the', 'al', 'noor', 'mosque', ',', 'where', 'most', 'of', 'the', 'victims', 'be', 'kill', '.', 'a', 'total', 'of', '34', 'patients', 'injure', 'in', 'the', 'attack', 'remain', 'in']\n",
      "['the', 'number', 'of', 'people', 'kill', 'in', 'friday', '’', 's', 'massacre', 'in', 'christchurch', 'rise', 'to', '50', 'when', 'another', 'body', 'be', 'discover', 'at', 'the', 'al', 'noor', 'mosque', ',', 'where', 'most', 'of', 'the', 'victims', 'be', 'kill', '.', 'a', 'total', 'of', '34', 'patients', 'injure', 'in', 'the', 'attack', 'remain', 'in', 'christchurch']\n",
      "['the', 'number', 'of', 'people', 'kill', 'in', 'friday', '’', 's', 'massacre', 'in', 'christchurch', 'rise', 'to', '50', 'when', 'another', 'body', 'be', 'discover', 'at', 'the', 'al', 'noor', 'mosque', ',', 'where', 'most', 'of', 'the', 'victims', 'be', 'kill', '.', 'a', 'total', 'of', '34', 'patients', 'injure', 'in', 'the', 'attack', 'remain', 'in', 'christchurch', 'hospital']\n",
      "['the', 'number', 'of', 'people', 'kill', 'in', 'friday', '’', 's', 'massacre', 'in', 'christchurch', 'rise', 'to', '50', 'when', 'another', 'body', 'be', 'discover', 'at', 'the', 'al', 'noor', 'mosque', ',', 'where', 'most', 'of', 'the', 'victims', 'be', 'kill', '.', 'a', 'total', 'of', '34', 'patients', 'injure', 'in', 'the', 'attack', 'remain', 'in', 'christchurch', 'hospital', ',']\n",
      "['the', 'number', 'of', 'people', 'kill', 'in', 'friday', '’', 's', 'massacre', 'in', 'christchurch', 'rise', 'to', '50', 'when', 'another', 'body', 'be', 'discover', 'at', 'the', 'al', 'noor', 'mosque', ',', 'where', 'most', 'of', 'the', 'victims', 'be', 'kill', '.', 'a', 'total', 'of', '34', 'patients', 'injure', 'in', 'the', 'attack', 'remain', 'in', 'christchurch', 'hospital', ',', 'include']\n",
      "['the', 'number', 'of', 'people', 'kill', 'in', 'friday', '’', 's', 'massacre', 'in', 'christchurch', 'rise', 'to', '50', 'when', 'another', 'body', 'be', 'discover', 'at', 'the', 'al', 'noor', 'mosque', ',', 'where', 'most', 'of', 'the', 'victims', 'be', 'kill', '.', 'a', 'total', 'of', '34', 'patients', 'injure', 'in', 'the', 'attack', 'remain', 'in', 'christchurch', 'hospital', ',', 'include', '12']\n",
      "['the', 'number', 'of', 'people', 'kill', 'in', 'friday', '’', 's', 'massacre', 'in', 'christchurch', 'rise', 'to', '50', 'when', 'another', 'body', 'be', 'discover', 'at', 'the', 'al', 'noor', 'mosque', ',', 'where', 'most', 'of', 'the', 'victims', 'be', 'kill', '.', 'a', 'total', 'of', '34', 'patients', 'injure', 'in', 'the', 'attack', 'remain', 'in', 'christchurch', 'hospital', ',', 'include', '12', 'people']\n",
      "['the', 'number', 'of', 'people', 'kill', 'in', 'friday', '’', 's', 'massacre', 'in', 'christchurch', 'rise', 'to', '50', 'when', 'another', 'body', 'be', 'discover', 'at', 'the', 'al', 'noor', 'mosque', ',', 'where', 'most', 'of', 'the', 'victims', 'be', 'kill', '.', 'a', 'total', 'of', '34', 'patients', 'injure', 'in', 'the', 'attack', 'remain', 'in', 'christchurch', 'hospital', ',', 'include', '12', 'people', 'in']\n",
      "['the', 'number', 'of', 'people', 'kill', 'in', 'friday', '’', 's', 'massacre', 'in', 'christchurch', 'rise', 'to', '50', 'when', 'another', 'body', 'be', 'discover', 'at', 'the', 'al', 'noor', 'mosque', ',', 'where', 'most', 'of', 'the', 'victims', 'be', 'kill', '.', 'a', 'total', 'of', '34', 'patients', 'injure', 'in', 'the', 'attack', 'remain', 'in', 'christchurch', 'hospital', ',', 'include', '12', 'people', 'in', 'intensive']\n",
      "['the', 'number', 'of', 'people', 'kill', 'in', 'friday', '’', 's', 'massacre', 'in', 'christchurch', 'rise', 'to', '50', 'when', 'another', 'body', 'be', 'discover', 'at', 'the', 'al', 'noor', 'mosque', ',', 'where', 'most', 'of', 'the', 'victims', 'be', 'kill', '.', 'a', 'total', 'of', '34', 'patients', 'injure', 'in', 'the', 'attack', 'remain', 'in', 'christchurch', 'hospital', ',', 'include', '12', 'people', 'in', 'intensive', 'care']\n",
      "['the', 'number', 'of', 'people', 'kill', 'in', 'friday', '’', 's', 'massacre', 'in', 'christchurch', 'rise', 'to', '50', 'when', 'another', 'body', 'be', 'discover', 'at', 'the', 'al', 'noor', 'mosque', ',', 'where', 'most', 'of', 'the', 'victims', 'be', 'kill', '.', 'a', 'total', 'of', '34', 'patients', 'injure', 'in', 'the', 'attack', 'remain', 'in', 'christchurch', 'hospital', ',', 'include', '12', 'people', 'in', 'intensive', 'care', '.']\n"
     ]
    },
    {
     "data": {
      "text/plain": [
       "0.39446894813716843"
      ]
     },
     "execution_count": 8,
     "metadata": {},
     "output_type": "execute_result"
    }
   ],
   "source": [
    "cosine_sim(text1,text2)"
   ]
  },
  {
   "cell_type": "code",
   "execution_count": 9,
   "metadata": {},
   "outputs": [],
   "source": [
    "textt1 = \"This Agreement is governed by the laws of the State of Missouri without reference to its conflict of law principles.\""
   ]
  },
  {
   "cell_type": "code",
   "execution_count": 10,
   "metadata": {},
   "outputs": [],
   "source": [
    "textt2 = \"The laws of the State of Missouri shall apply to this Agreement.\""
   ]
  },
  {
   "cell_type": "code",
   "execution_count": 11,
   "metadata": {},
   "outputs": [
    {
     "name": "stdout",
     "output_type": "stream",
     "text": [
      "['this']\n",
      "['this', 'agreement']\n",
      "['this', 'agreement', 'be']\n",
      "['this', 'agreement', 'be', 'govern']\n",
      "['this', 'agreement', 'be', 'govern', 'by']\n",
      "['this', 'agreement', 'be', 'govern', 'by', 'the']\n",
      "['this', 'agreement', 'be', 'govern', 'by', 'the', 'laws']\n",
      "['this', 'agreement', 'be', 'govern', 'by', 'the', 'laws', 'of']\n",
      "['this', 'agreement', 'be', 'govern', 'by', 'the', 'laws', 'of', 'the']\n",
      "['this', 'agreement', 'be', 'govern', 'by', 'the', 'laws', 'of', 'the', 'state']\n",
      "['this', 'agreement', 'be', 'govern', 'by', 'the', 'laws', 'of', 'the', 'state', 'of']\n",
      "['this', 'agreement', 'be', 'govern', 'by', 'the', 'laws', 'of', 'the', 'state', 'of', 'missouri']\n",
      "['this', 'agreement', 'be', 'govern', 'by', 'the', 'laws', 'of', 'the', 'state', 'of', 'missouri', 'without']\n",
      "['this', 'agreement', 'be', 'govern', 'by', 'the', 'laws', 'of', 'the', 'state', 'of', 'missouri', 'without', 'reference']\n",
      "['this', 'agreement', 'be', 'govern', 'by', 'the', 'laws', 'of', 'the', 'state', 'of', 'missouri', 'without', 'reference', 'to']\n",
      "['this', 'agreement', 'be', 'govern', 'by', 'the', 'laws', 'of', 'the', 'state', 'of', 'missouri', 'without', 'reference', 'to', 'its']\n",
      "['this', 'agreement', 'be', 'govern', 'by', 'the', 'laws', 'of', 'the', 'state', 'of', 'missouri', 'without', 'reference', 'to', 'its', 'conflict']\n",
      "['this', 'agreement', 'be', 'govern', 'by', 'the', 'laws', 'of', 'the', 'state', 'of', 'missouri', 'without', 'reference', 'to', 'its', 'conflict', 'of']\n",
      "['this', 'agreement', 'be', 'govern', 'by', 'the', 'laws', 'of', 'the', 'state', 'of', 'missouri', 'without', 'reference', 'to', 'its', 'conflict', 'of', 'law']\n",
      "['this', 'agreement', 'be', 'govern', 'by', 'the', 'laws', 'of', 'the', 'state', 'of', 'missouri', 'without', 'reference', 'to', 'its', 'conflict', 'of', 'law', 'principles']\n",
      "['this', 'agreement', 'be', 'govern', 'by', 'the', 'laws', 'of', 'the', 'state', 'of', 'missouri', 'without', 'reference', 'to', 'its', 'conflict', 'of', 'law', 'principles', '.']\n",
      "['the']\n",
      "['the', 'laws']\n",
      "['the', 'laws', 'of']\n",
      "['the', 'laws', 'of', 'the']\n",
      "['the', 'laws', 'of', 'the', 'state']\n",
      "['the', 'laws', 'of', 'the', 'state', 'of']\n",
      "['the', 'laws', 'of', 'the', 'state', 'of', 'missouri']\n",
      "['the', 'laws', 'of', 'the', 'state', 'of', 'missouri', 'shall']\n",
      "['the', 'laws', 'of', 'the', 'state', 'of', 'missouri', 'shall', 'apply']\n",
      "['the', 'laws', 'of', 'the', 'state', 'of', 'missouri', 'shall', 'apply', 'to']\n",
      "['the', 'laws', 'of', 'the', 'state', 'of', 'missouri', 'shall', 'apply', 'to', 'this']\n",
      "['the', 'laws', 'of', 'the', 'state', 'of', 'missouri', 'shall', 'apply', 'to', 'this', 'agreement']\n",
      "['the', 'laws', 'of', 'the', 'state', 'of', 'missouri', 'shall', 'apply', 'to', 'this', 'agreement', '.']\n"
     ]
    },
    {
     "data": {
      "text/plain": [
       "0.6353562124318741"
      ]
     },
     "execution_count": 11,
     "metadata": {},
     "output_type": "execute_result"
    }
   ],
   "source": [
    "cosine_sim(textt1,textt2)"
   ]
  },
  {
   "cell_type": "code",
   "execution_count": 12,
   "metadata": {},
   "outputs": [],
   "source": [
    "testttt1 = \"I ate an apple yesterday.\"\n",
    "testttt2 = \"I am eating an apple right now.\""
   ]
  },
  {
   "cell_type": "code",
   "execution_count": 15,
   "metadata": {},
   "outputs": [
    {
     "name": "stdout",
     "output_type": "stream",
     "text": [
      "['i']\n",
      "['i', 'eat']\n",
      "['i', 'eat', 'an']\n",
      "['i', 'eat', 'an', 'apple']\n",
      "['i', 'eat', 'an', 'apple', 'yesterday']\n",
      "['i', 'eat', 'an', 'apple', 'yesterday', '.']\n",
      "['i']\n",
      "['i', 'be']\n",
      "['i', 'be', 'eat']\n",
      "['i', 'be', 'eat', 'an']\n",
      "['i', 'be', 'eat', 'an', 'apple']\n",
      "['i', 'be', 'eat', 'an', 'apple', 'right']\n",
      "['i', 'be', 'eat', 'an', 'apple', 'right', 'now']\n",
      "['i', 'be', 'eat', 'an', 'apple', 'right', 'now', '.']\n"
     ]
    },
    {
     "data": {
      "text/plain": [
       "0.5727393584196199"
      ]
     },
     "execution_count": 15,
     "metadata": {},
     "output_type": "execute_result"
    }
   ],
   "source": [
    "cosine_sim(testttt1,testttt2)"
   ]
  },
  {
   "cell_type": "code",
   "execution_count": null,
   "metadata": {},
   "outputs": [],
   "source": []
  }
 ],
 "metadata": {
  "kernelspec": {
   "display_name": "Python 3",
   "language": "python",
   "name": "python3"
  },
  "language_info": {
   "codemirror_mode": {
    "name": "ipython",
    "version": 3
   },
   "file_extension": ".py",
   "mimetype": "text/x-python",
   "name": "python",
   "nbconvert_exporter": "python",
   "pygments_lexer": "ipython3",
   "version": "3.7.1"
  }
 },
 "nbformat": 4,
 "nbformat_minor": 2
}
